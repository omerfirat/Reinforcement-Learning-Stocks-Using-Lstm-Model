{
 "cells": [
  {
   "cell_type": "code",
   "execution_count": null,
   "metadata": {},
   "outputs": [],
   "source": [
    "import numpy as np\n",
    "import pandas as pd\n",
    "from empyrical import sharpe_ratio\n",
    "from matplotlib import pyplot as plt"
   ]
  },
  {
   "cell_type": "code",
   "execution_count": null,
   "metadata": {},
   "outputs": [],
   "source": [
    "class Portfolio:\n",
    "    def __init__(self, balance=50000):\n",
    "        self.initial_portfolio_value = balance\n",
    "        self.balance = balance\n",
    "        self.inventory = []\n",
    "        self.return_rates = []\n",
    "        self.portfolio_values = [balance]\n",
    "        self.buy_dates = []\n",
    "        self.sell_dates = []\n",
    "    def reset_portfolio(self):\n",
    "        self.balance = self.initial_portfolio_value\n",
    "        self.inventory = []\n",
    "        self.return_rates = []\n",
    "        self.portfolio_values = [self.initial_portfolio_value]\n",
    "        \n",
    "def sigmoid(x):\n",
    "    return 1 / (1 + np.exp(-x))"
   ]
  },
  {
   "cell_type": "code",
   "execution_count": null,
   "metadata": {},
   "outputs": [],
   "source": [
    "def softmax(x):\n",
    "    return np.exp(x) / np.sum(np.exp(x))"
   ]
  },
  {
   "cell_type": "code",
   "execution_count": null,
   "metadata": {},
   "outputs": [],
   "source": [
    "def stock_close_prices(key):\n",
    "    '''return a list containing stock close prices from a .csv file'''\n",
    "    prices = []\n",
    "    lines = open(\"data/\" + key + \".csv\", \"r\").read().splitlines()\n",
    "    for line in lines[1:]:\n",
    "        prices.append(float(line.split(\",\")[4]))\n",
    "    return prices"
   ]
  },
  {
   "cell_type": "code",
   "execution_count": null,
   "metadata": {},
   "outputs": [],
   "source": [
    "def generate_price_state(stock_prices, end_index, window_size):\n",
    "    '''\n",
    "    return a state representation, defined as\n",
    "    the adjacent stock price differences after sigmoid function (for the past window_size days up to end_date)\n",
    "    note that a state has length window_size, a period has length window_size+1\n",
    "    '''\n",
    "    start_index = end_index - window_size\n",
    "    if start_index >= 0:\n",
    "        period = stock_prices[start_index:end_index+1]\n",
    "    else: # if end_index cannot suffice window_size, pad with prices on start_index\n",
    "        period = -start_index * [stock_prices[0]] + stock_prices[0:end_index+1]\n",
    "    return sigmoid(np.diff(period))"
   ]
  },
  {
   "cell_type": "code",
   "execution_count": null,
   "metadata": {},
   "outputs": [],
   "source": [
    "def generate_portfolio_state(stock_price, balance, num_holding):\n",
    "    '''logarithmic values of stock price, portfolio balance, and number of holding stocks'''\n",
    "    return [np.log(stock_price), np.log(balance), np.log(num_holding + 1e-6)]"
   ]
  },
  {
   "cell_type": "code",
   "execution_count": null,
   "metadata": {},
   "outputs": [],
   "source": [
    "def generate_combined_state(end_index, window_size, stock_prices, balance, num_holding):\n",
    "    '''\n",
    "    return a state representation, defined as\n",
    "    adjacent stock prices differences after sigmoid function (for the past window_size days up to end_date) plus\n",
    "    logarithmic values of stock price at end_date, portfolio balance, and number of holding stocks\n",
    "    '''\n",
    "    prince_state = generate_price_state(stock_prices, end_index, window_size)\n",
    "    portfolio_state = generate_portfolio_state(stock_prices[end_index], balance, num_holding)\n",
    "    return np.array([np.concatenate((prince_state, portfolio_state), axis=None)])"
   ]
  },
  {
   "cell_type": "code",
   "execution_count": null,
   "metadata": {},
   "outputs": [],
   "source": [
    "def treasury_bond_daily_return_rate():\n",
    "    r_year = 2.75 / 100  # approximate annual U.S. Treasury bond return rate\n",
    "    return (1 + r_year)**(1 / 365) - 1"
   ]
  },
  {
   "cell_type": "code",
   "execution_count": null,
   "metadata": {},
   "outputs": [],
   "source": [
    "def maximum_drawdown(portfolio_values):\n",
    "    end_index = np.argmax(np.maximum.accumulate(portfolio_values) - portfolio_values)\n",
    "    if end_index == 0:\n",
    "        return 0\n",
    "    beginning_iudex = np.argmax(portfolio_values[:end_index])\n",
    "    return (portfolio_values[end_index] - portfolio_values[beginning_iudex]) / portfolio_values[beginning_iudex]"
   ]
  },
  {
   "cell_type": "code",
   "execution_count": null,
   "metadata": {},
   "outputs": [],
   "source": [
    "def evaluate_portfolio_performance(agent, logger):\n",
    "    portfolio_return = agent.portfolio_values[-1] - agent.initial_portfolio_value\n",
    "    logger.info(\"--------------------------------\")\n",
    "    logger.info('Portfolio Value:        ${:.2f}'.format(agent.portfolio_values[-1]))\n",
    "    logger.info('Portfolio Balance:      ${:.2f}'.format(agent.balance))\n",
    "    logger.info('Portfolio Stocks Number: {}'.format(len(agent.inventory)))\n",
    "    logger.info('Total Return:           ${:.2f}'.format(portfolio_return))\n",
    "    logger.info('Mean/Daily Return Rate:  {:.3f}%'.format(np.mean(agent.return_rates) * 100))\n",
    "    logger.info('Sharpe Ratio adjusted with Treasury bond daily return: {:.3f}'.format(sharpe_ratio(np.array(agent.return_rates)), risk_free=treasury_bond_daily_return_rate()))\n",
    "    logger.info('Maximum Drawdown:        {:.3f}%'.format(maximum_drawdown(agent.portfolio_values) * 100))\n",
    "    logger.info(\"--------------------------------\")\n",
    "    return portfolio_return"
   ]
  },
  {
   "cell_type": "code",
   "execution_count": null,
   "metadata": {},
   "outputs": [],
   "source": [
    "def plot_portfolio_transaction_history(stock_name, agent):\n",
    "\tportfolio_return = agent.portfolio_values[-1] - agent.initial_portfolio_value\n",
    "\tdf = pd.read_csv('./data/{}.csv'.format(stock_name))\n",
    "\tbuy_prices = [df.iloc[t, 4] for t in agent.buy_dates]\n",
    "\tsell_prices = [df.iloc[t, 4] for t in agent.sell_dates]\n",
    "\tplt.figure(figsize=(15, 5), dpi=100)\n",
    "\tplt.title('{} Total Return on {}: ${:.2f}'.format(agent.model_type, stock_name, portfolio_return))\n",
    "\tplt.plot(df['Date'], df['Close'], color='black', label=stock_name)\n",
    "\tplt.scatter(agent.buy_dates, buy_prices, c='green', alpha=0.5, label='buy')\n",
    "\tplt.scatter(agent.sell_dates, sell_prices,c='red', alpha=0.5, label='sell')\n",
    "\tplt.xticks(np.linspace(0, len(df), 10))\n",
    "\tplt.ylabel('Price')\n",
    "\tplt.legend()\n",
    "\tplt.grid()\n",
    "\tplt.show()"
   ]
  },
  {
   "cell_type": "code",
   "execution_count": null,
   "metadata": {},
   "outputs": [],
   "source": [
    "def buy_and_hold_benchmark(stock_name, agent):\n",
    "    df = pd.read_csv('./data/{}.csv'.format(stock_name))\n",
    "    dates = df['Date']\n",
    "    num_holding = agent.initial_portfolio_value // df.iloc[0, 4]\n",
    "    balance_left = agent.initial_portfolio_value % df.iloc[0, 4]\n",
    "    buy_and_hold_portfolio_values = df['Close']*num_holding + balance_left\n",
    "    buy_and_hold_return = buy_and_hold_portfolio_values.iloc[-1] - agent.initial_portfolio_value\n",
    "    return dates, buy_and_hold_portfolio_values, buy_and_hold_return"
   ]
  },
  {
   "cell_type": "code",
   "execution_count": null,
   "metadata": {},
   "outputs": [],
   "source": [
    "def plot_portfolio_performance_comparison(stock_name, agent):\n",
    "\tdates, buy_and_hold_portfolio_values, buy_and_hold_return = buy_and_hold_benchmark(stock_name, agent)\n",
    "\tagent_return = agent.portfolio_values[-1] - agent.initial_portfolio_value\n",
    "\tplt.figure(figsize=(15, 5), dpi=100)\n",
    "\tplt.title('{} vs. Buy and Hold'.format(agent.model_type))\n",
    "\tplt.plot(dates, agent.portfolio_values, color='green', label='{} Total Return: ${:.2f}'.format(agent.model_type, agent_return))\n",
    "\tplt.plot(dates, buy_and_hold_portfolio_values, color='blue', label='{} Buy and Hold Total Return: ${:.2f}'.format(stock_name, buy_and_hold_return))\n",
    "\t# compare with S&P 500 performance in 2018\n",
    "\tif '^GSPC' not in stock_name:\n",
    "\t\tdates, GSPC_buy_and_hold_portfolio_values, GSPC_buy_and_hold_return = buy_and_hold_benchmark('^GSPC_2018', agent)\n",
    "\t\tplt.plot(dates, GSPC_buy_and_hold_portfolio_values, color='red', label='S&P 500 2018 Buy and Hold Total Return: ${:.2f}'.format(GSPC_buy_and_hold_return))\n",
    "\tplt.xticks(np.linspace(0, len(dates), 10))\n",
    "\tplt.ylabel('Portfolio Value ($)')\n",
    "\tplt.legend()\n",
    "\tplt.grid()\n",
    "\tplt.show()"
   ]
  },
  {
   "cell_type": "code",
   "execution_count": null,
   "metadata": {},
   "outputs": [],
   "source": [
    "def plot_all(stock_name, agent):\n",
    "    '''combined plots of plot_portfolio_transaction_history and plot_portfolio_performance_comparison'''\n",
    "    fig, ax = plt.subplots(2, 1, figsize=(16,8), dpi=100)\n",
    "    portfolio_return = agent.portfolio_values[-1] - agent.initial_portfolio_value\n",
    "    df = pd.read_csv('./data/{}.csv'.format(stock_name))\n",
    "    buy_prices = [df.iloc[t, 4] for t in agent.buy_dates]\n",
    "    sell_prices = [df.iloc[t, 4] for t in agent.sell_dates]\n",
    "    ax[0].set_title('{} Total Return on {}: ${:.2f}'.format(agent.model_type, stock_name, portfolio_return))\n",
    "    ax[0].plot(df['Date'], df['Close'], color='black', label=stock_name)\n",
    "    ax[0].scatter(agent.buy_dates, buy_prices, c='green', alpha=0.5, label='buy')\n",
    "    ax[0].scatter(agent.sell_dates, sell_prices,c='red', alpha=0.5, label='sell')\n",
    "    ax[0].set_ylabel('Price')\n",
    "    ax[0].set_xticks(np.linspace(0, len(df), 10))\n",
    "    ax[0].legend()\n",
    "    ax[0].grid()\n",
    "    dates, buy_and_hold_portfolio_values, buy_and_hold_return = buy_and_hold_benchmark(stock_name, agent)\n",
    "    agent_return = agent.portfolio_values[-1] - agent.initial_portfolio_value\n",
    "    ax[1].set_title('{} vs. Buy and Hold'.format(agent.model_type))\n",
    "    ax[1].plot(dates, agent.portfolio_values, color='green', label='{} Total Return: ${:.2f}'.format(agent.model_type, agent_return))\n",
    "    ax[1].plot(dates, buy_and_hold_portfolio_values, color='blue', label='{} Buy and Hold Total Return: ${:.2f}'.format(stock_name, buy_and_hold_return))\n",
    "    # compare with S&P 500 performance in 2018 if stock is not S&P 500\n",
    "    if '^GSPC' not in stock_name:\n",
    "    \tdates, GSPC_buy_and_hold_portfolio_values, GSPC_buy_and_hold_return = buy_and_hold_benchmark('^GSPC_2018', agent)\n",
    "    \tax[1].plot(dates, GSPC_buy_and_hold_portfolio_values, color='red', label='S&P 500 2018 Buy and Hold Total Return: ${:.2f}'.format(GSPC_buy_and_hold_return))\n",
    "    ax[1].set_ylabel('Portfolio Value ($)')\n",
    "    ax[1].set_xticks(np.linspace(0, len(df), 10))\n",
    "    ax[1].legend()\n",
    "    ax[1].grid()\n",
    "    plt.subplots_adjust(hspace=0.5)\n",
    "    plt.show()"
   ]
  },
  {
   "cell_type": "code",
   "execution_count": null,
   "metadata": {},
   "outputs": [],
   "source": [
    "def plot_portfolio_returns_across_episodes(model_name, returns_across_episodes):\n",
    "    len_episodes = len(returns_across_episodes)\n",
    "    plt.figure(figsize=(15, 5), dpi=100)\n",
    "    plt.title('Portfolio Returns')\n",
    "    plt.plot(returns_across_episodes, color='black')\n",
    "    plt.xlabel('Episode')\n",
    "    plt.ylabel('Return Value')\n",
    "    plt.grid()\n",
    "    plt.savefig('visualizations/{}_returns_ep{}.png'.format(model_name, len_episodes))\n",
    "    plt.show()"
   ]
  }
 ],
 "metadata": {
  "kernelspec": {
   "display_name": "Python 3",
   "language": "python",
   "name": "python3"
  },
  "language_info": {
   "codemirror_mode": {
    "name": "ipython",
    "version": 3
   },
   "file_extension": ".py",
   "mimetype": "text/x-python",
   "name": "python",
   "nbconvert_exporter": "python",
   "pygments_lexer": "ipython3",
   "version": "3.8.8"
  }
 },
 "nbformat": 4,
 "nbformat_minor": 2
}
