{
 "cells": [
  {
   "cell_type": "code",
   "execution_count": null,
   "metadata": {},
   "outputs": [],
   "source": [
    "import random\n",
    "from collections import deque"
   ]
  },
  {
   "cell_type": "code",
   "execution_count": null,
   "metadata": {},
   "outputs": [],
   "source": [
    "import numpy as np\n",
    "from tensorflow.keras import Sequential\n",
    "from tensorflow.keras.callbacks import TensorBoard\n",
    "from tensorflow.keras.layers import Dense,LSTM,Dropout\n",
    "from tensorflow.keras.models import load_model\n",
    "from tensorflow.keras.optimizers import Adam"
   ]
  },
  {
   "cell_type": "code",
   "execution_count": null,
   "metadata": {},
   "outputs": [],
   "source": [
    "from utils import Portfolio"
   ]
  },
  {
   "cell_type": "markdown",
   "metadata": {},
   "source": [
    "reference:<br>\n",
    "https://arxiv.org/pdf/1312.5602.pdf"
   ]
  },
  {
   "cell_type": "code",
   "execution_count": null,
   "metadata": {},
   "outputs": [],
   "source": [
    "class Agent(Portfolio):\n",
    "    def __init__(self, state_dim, balance, is_eval=False, model_name=\"\"):\n",
    "        super().__init__(balance=balance)\n",
    "        self.model_type = 'DQN'\n",
    "        self.state_dim = state_dim\n",
    "        self.action_dim = 3  # hold, buy, sell\n",
    "        self.memory = deque(maxlen=100)\n",
    "        self.buffer_size = 60\n",
    "        self.gamma = 0.95\n",
    "        self.epsilon = 1.0  # initial exploration rate\n",
    "        self.epsilon_min = 0.01  # minimum exploration rate\n",
    "        self.epsilon_decay = 0.995 # decrease exploration rate as the agent becomes good at trading\n",
    "        self.is_eval = is_eval\n",
    "        self.model = load_model('saved_models/{}.h5'.format(model_name)) if is_eval else self.model()\n",
    "        self.tensorboard = TensorBoard(log_dir='./logs/DQN_tensorboard', update_freq=90)\n",
    "        self.tensorboard.set_model(self.model)\n",
    "    def model(self):\n",
    "      # define the model\n",
    "      ag_katman_yapisi = [128, 64]\n",
    "      days = 1\n",
    "      drop_out = 0.2\n",
    "      span_of_observation_days = 13\n",
    "      # define the model\n",
    "      model = Sequential()\n",
    "      model.add(LSTM(ag_katman_yapisi[1], input_shape=(span_of_observation_days, days), return_sequences=False))\n",
    "      #model.add(Dropout(drop_out))\n",
    "      #model.add(LSTM(ag_katman_yapisi[1]))\n",
    "      #model.add(Dropout(drop_out))\n",
    "      #model.add(Dense(32,kernel_initializer=\"uniform\",activation='relu'))  \n",
    "      \n",
    "      model.add(Dense(self.action_dim, activation='softmax'))\n",
    "      model.compile(loss='mse', optimizer=Adam(lr=0.01))"
   ]
  }
 ],
 "metadata": {
  "kernelspec": {
   "display_name": "Python 3",
   "language": "python",
   "name": "python3"
  },
  "language_info": {
   "codemirror_mode": {
    "name": "ipython",
    "version": 3
   },
   "file_extension": ".py",
   "mimetype": "text/x-python",
   "name": "python",
   "nbconvert_exporter": "python",
   "pygments_lexer": "ipython3",
   "version": "3.8.8"
  }
 },
 "nbformat": 4,
 "nbformat_minor": 2
}
