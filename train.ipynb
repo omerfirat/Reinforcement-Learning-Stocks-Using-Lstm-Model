{
 "cells": [
  {
   "cell_type": "code",
   "execution_count": null,
   "metadata": {},
   "outputs": [],
   "source": [
    "import argparse\n",
    "import importlib\n",
    "import logging\n",
    "import sys\n",
    "import time"
   ]
  },
  {
   "cell_type": "code",
   "execution_count": null,
   "metadata": {},
   "outputs": [],
   "source": [
    "from utils import *"
   ]
  },
  {
   "cell_type": "code",
   "execution_count": null,
   "metadata": {},
   "outputs": [],
   "source": [
    "parser = argparse.ArgumentParser(description='command line options')\n",
    "parser.add_argument('--model_name', action=\"store\", dest=\"model_name\", default='LSTM', help=\"model name\")\n",
    "parser.add_argument('--stock_name', action=\"store\", dest=\"stock_name\", default='^GSPC_2010-2015', help=\"stock name\")\n",
    "parser.add_argument('--window_size', action=\"store\", dest=\"window_size\", default=10, type=int, help=\"span (days) of observation\")\n",
    "parser.add_argument('--num_episode', action=\"store\", dest=\"num_episode\", default=10, type=int, help='episode number')\n",
    "parser.add_argument('--initial_balance', action=\"store\", dest=\"initial_balance\", default=50000, type=int, help='initial balance')\n",
    "inputs = parser.parse_args()"
   ]
  },
  {
   "cell_type": "code",
   "execution_count": null,
   "metadata": {},
   "outputs": [],
   "source": [
    "model_name = inputs.model_name\n",
    "stock_name = inputs.stock_name\n",
    "window_size = inputs.window_size\n",
    "num_episode = inputs.num_episode\n",
    "initial_balance = inputs.initial_balance"
   ]
  },
  {
   "cell_type": "code",
   "execution_count": null,
   "metadata": {},
   "outputs": [],
   "source": [
    "stock_prices = stock_close_prices(stock_name)\n",
    "trading_period = len(stock_prices) - 1\n",
    "returns_across_episodes = []\n",
    "num_experience_replay = 0\n",
    "action_dict = {0: 'Hold', 1: 'Buy', 2: 'Sell'}"
   ]
  },
  {
   "cell_type": "markdown",
   "metadata": {},
   "source": [
    "select learning model"
   ]
  },
  {
   "cell_type": "code",
   "execution_count": null,
   "metadata": {},
   "outputs": [],
   "source": [
    "model = importlib.import_module(f'agents.{model_name}')\n",
    "agent = model.Agent(state_dim=window_size + 3, balance=initial_balance)"
   ]
  },
  {
   "cell_type": "code",
   "execution_count": null,
   "metadata": {},
   "outputs": [],
   "source": [
    "def hold(actions):\n",
    "    # encourage selling for profit and liquidity\n",
    "    next_probable_action = np.argsort(actions)[1]\n",
    "    if next_probable_action == 2 and len(agent.inventory) > 0:\n",
    "        max_profit = stock_prices[t] - min(agent.inventory)\n",
    "        if max_profit > 0:\n",
    "            sell(t)\n",
    "            actions[next_probable_action] = 1 # reset this action's value to the highest\n",
    "            return 'Hold', actions"
   ]
  },
  {
   "cell_type": "code",
   "execution_count": null,
   "metadata": {},
   "outputs": [],
   "source": [
    "def buy(t):\n",
    "    if agent.balance > stock_prices[t]:\n",
    "        agent.balance -= stock_prices[t]\n",
    "        agent.inventory.append(stock_prices[t])\n",
    "        return 'Buy: ${:.2f}'.format(stock_prices[t])"
   ]
  },
  {
   "cell_type": "code",
   "execution_count": null,
   "metadata": {},
   "outputs": [],
   "source": [
    "def sell(t):\n",
    "    if len(agent.inventory) > 0:\n",
    "        agent.balance += stock_prices[t]\n",
    "        bought_price = agent.inventory.pop(0)\n",
    "        profit = stock_prices[t] - bought_price\n",
    "        global reward\n",
    "        reward = profit\n",
    "        return 'Sell: ${:.2f} | Profit: ${:.2f}'.format(stock_prices[t], profit)"
   ]
  },
  {
   "cell_type": "markdown",
   "metadata": {},
   "source": [
    "configure logging"
   ]
  },
  {
   "cell_type": "code",
   "execution_count": null,
   "metadata": {},
   "outputs": [],
   "source": [
    "logging.basicConfig(filename=f'logs/{model_name}_training_{stock_name}.log', filemode='w',\n",
    "                    format='[%(asctime)s.%(msecs)03d %(filename)s:%(lineno)3s] %(message)s', \n",
    "                    datefmt='%m/%d/%Y %H:%M:%S', level=logging.INFO)"
   ]
  },
  {
   "cell_type": "code",
   "execution_count": null,
   "metadata": {},
   "outputs": [],
   "source": [
    "logging.info(f'Trading Object:           {stock_name}')\n",
    "logging.info(f'Trading Period:           {trading_period} days')\n",
    "logging.info(f'Window Size:              {window_size} days')\n",
    "logging.info(f'Training Episode:         {num_episode}')\n",
    "logging.info(f'Model Name:               {model_name}')\n",
    "logging.info('Initial Portfolio Value: ${:,}'.format(initial_balance))"
   ]
  },
  {
   "cell_type": "code",
   "execution_count": null,
   "metadata": {},
   "outputs": [],
   "source": [
    "start_time = time.time()\n",
    "for e in range(1, num_episode + 1):\n",
    "    logging.info(f'\\nEpisode: {e}/{num_episode}')\n",
    "    agent.reset() # reset to initial balance and hyperparameters\n",
    "    state = generate_combined_state(0, window_size, stock_prices, agent.balance, len(agent.inventory))\n",
    "    for t in range(1, trading_period + 1):\n",
    "        if t % 100 == 0:\n",
    "            logging.info(f'\\n-------------------Period: {t}/{trading_period}-------------------')\n",
    "        reward = 0\n",
    "        next_state = generate_combined_state(t, window_size, stock_prices, agent.balance, len(agent.inventory))\n",
    "        previous_portfolio_value = len(agent.inventory) * stock_prices[t] + agent.balance\n",
    "        if model_name == 'DDPG':\n",
    "            actions = agent.act(state, t)\n",
    "            action = np.argmax(actions)\n",
    "        else:\n",
    "            actions = agent.model.predict(state)[0]\n",
    "            action = agent.act(state)\n",
    "        \n",
    "        # execute position\n",
    "        logging.info('Step: {}\\tHold signal: {:.4} \\tBuy signal: {:.4} \\tSell signal: {:.4}'.format(t, actions[0], actions[1], actions[2]))\n",
    "        if action != np.argmax(actions): logging.info(f\"\\t\\t'{action_dict[action]}' is an exploration.\")\n",
    "        if action == 0: # hold\n",
    "            execution_result = hold(actions)\n",
    "        if action == 1: # buy\n",
    "            execution_result = buy(t)      \n",
    "        if action == 2: # sell\n",
    "            execution_result = sell(t)        \n",
    "        \n",
    "        # check execution result\n",
    "        if execution_result is None:\n",
    "            reward -= treasury_bond_daily_return_rate() * agent.balance  # missing opportunity\n",
    "        else:\n",
    "            if isinstance(execution_result, tuple): # if execution_result is 'Hold'\n",
    "                actions = execution_result[1]\n",
    "                execution_result = execution_result[0]\n",
    "            logging.info(execution_result)                \n",
    "\n",
    "        # calculate reward\n",
    "        current_portfolio_value = len(agent.inventory) * stock_prices[t] + agent.balance\n",
    "        unrealized_profit = current_portfolio_value - agent.initial_portfolio_value\n",
    "        reward += unrealized_profit\n",
    "        agent.portfolio_values.append(current_portfolio_value)\n",
    "        agent.return_rates.append((current_portfolio_value - previous_portfolio_value) / previous_portfolio_value)\n",
    "        done = True if t == trading_period else False\n",
    "        agent.remember(state, actions, reward, next_state, done)\n",
    "\n",
    "        # update state\n",
    "        state = next_state\n",
    "\n",
    "        # experience replay\n",
    "        if len(agent.memory) > agent.buffer_size:\n",
    "            num_experience_replay += 1\n",
    "            loss = agent.experience_replay()\n",
    "            logging.info('Episode: {}\\tLoss: {:.2f}\\tAction: {}\\tReward: {:.2f}\\tBalance: {:.2f}\\tNumber of Stocks: {}'.format(e, loss, action_dict[action], reward, agent.balance, len(agent.inventory)))\n",
    "            agent.tensorboard.on_batch_end(num_experience_replay, {'loss': loss, 'portfolio value': current_portfolio_value})\n",
    "        if done:\n",
    "            portfolio_return = evaluate_portfolio_performance(agent, logging)\n",
    "            returns_across_episodes.append(portfolio_return)\n",
    "\n",
    "    # save models periodically\n",
    "    if e % 5 == 0:\n",
    "        if model_name == 'DQN':\n",
    "            agent.model.save('saved_models/DQN_ep' + str(e) + '.h5')\n",
    "        if model_name == 'LSTM':\n",
    "            agent.model.save('saved_models/LSTM_ep' + str(e) + '.h5')\n",
    "        elif model_name == 'DDPG':\n",
    "            agent.actor.model.save_weights('saved_models/DDPG_ep{}_actor.h5'.format(str(e)))\n",
    "            agent.critic.model.save_weights('saved_models/DDPG_ep{}_critic.h5'.format(str(e)))\n",
    "        logging.info('model saved')"
   ]
  },
  {
   "cell_type": "code",
   "execution_count": null,
   "metadata": {},
   "outputs": [],
   "source": [
    "logging.info('total training time: {0:.2f} min'.format((time.time() - start_time)/60))\n",
    "plot_portfolio_returns_across_episodes(model_name, returns_across_episodes)"
   ]
  }
 ],
 "metadata": {
  "kernelspec": {
   "display_name": "Python 3",
   "language": "python",
   "name": "python3"
  },
  "language_info": {
   "codemirror_mode": {
    "name": "ipython",
    "version": 3
   },
   "file_extension": ".py",
   "mimetype": "text/x-python",
   "name": "python",
   "nbconvert_exporter": "python",
   "pygments_lexer": "ipython3",
   "version": "3.8.8"
  }
 },
 "nbformat": 4,
 "nbformat_minor": 2
}
